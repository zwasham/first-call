{
 "cells": [
  {
   "cell_type": "markdown",
   "id": "e8c2cd59",
   "metadata": {},
   "source": [
    "To execute a cell, hold `Ctrl` and press `Enter`.\n",
    "\n",
    "For more on Jupyter Notebooks, [click here](https://youtu.be/t7vfCWcywvQ?si=nDiQtJDiOQPZ_C0c)."
   ]
  },
  {
   "cell_type": "code",
   "execution_count": null,
   "id": "6b6a1e25",
   "metadata": {},
   "outputs": [],
   "source": [
    "# Install the openai package in this Codespace using pip.\n",
    "\n",
    "# The % prefix indicates that this line is a special Jupyter Notebook command, \n",
    "# not Python code.\n",
    "# The -qq flag \"quiets\" pip (i.e. suppresses unnecessary output).\n",
    "# After installation, click the \"Restart\" button at the top of this notebook.\n",
    "# You only need to execute this cell once during the life of this Codespace.\n",
    "\n",
    "%pip install openai -qq"
   ]
  },
  {
   "cell_type": "code",
   "execution_count": null,
   "id": "d072acb2",
   "metadata": {},
   "outputs": [],
   "source": [
    "# Import the OpenAI constructor.\n",
    "\n",
    "# A \"constructor\" is a Python function that initializes a fresh instance of a\n",
    "# certain type of object - in this case, an \"OpenAI\" object.\n",
    "# Importing this function into the program allows us to call it in the next cell.\n",
    "\n",
    "from openai import OpenAI"
   ]
  },
  {
   "cell_type": "code",
   "execution_count": null,
   "id": "7e682898",
   "metadata": {},
   "outputs": [],
   "source": [
    "# Create a new OpenAI client object by calling the OpenAI constructor.\n",
    "\n",
    "# This \"client\" object is the liason between you and OpenAI. It contains your\n",
    "# OpenAI API key (which the constructor gets from your environment variable) and\n",
    "# provides a set of new functions.\n",
    "\n",
    "client = OpenAI()"
   ]
  },
  {
   "cell_type": "code",
   "execution_count": null,
   "id": "193ddd17",
   "metadata": {},
   "outputs": [],
   "source": [
    "# Define a prompt to send to the OpenAI API.\n",
    "\n",
    "prompt = ''"
   ]
  },
  {
   "cell_type": "code",
   "execution_count": null,
   "id": "02b6291d",
   "metadata": {},
   "outputs": [],
   "source": [
    "# Generate a response to prompt using GPT 5.\n",
    "\n",
    "response = client.responses.create(model='gpt-5', input=prompt)"
   ]
  },
  {
   "cell_type": "code",
   "execution_count": null,
   "id": "5bf112dc",
   "metadata": {},
   "outputs": [],
   "source": [
    "# Display the output text of response.\n",
    "\n",
    "print(response.output_text)"
   ]
  }
 ],
 "metadata": {
  "kernelspec": {
   "display_name": "Python 3",
   "language": "python",
   "name": "python3"
  },
  "language_info": {
   "codemirror_mode": {
    "name": "ipython",
    "version": 3
   },
   "file_extension": ".py",
   "mimetype": "text/x-python",
   "name": "python",
   "nbconvert_exporter": "python",
   "pygments_lexer": "ipython3",
   "version": "3.12.1"
  }
 },
 "nbformat": 4,
 "nbformat_minor": 5
}
